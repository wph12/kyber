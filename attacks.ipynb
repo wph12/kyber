{
 "cells": [
  {
   "cell_type": "code",
   "execution_count": null,
   "metadata": {},
   "outputs": [],
   "source": [
    "%load_ext autoreload\n",
    "%autoreload\n",
    "\n",
    "import os\n",
    "import sys\n",
    "from pathlib import Path\n",
    "module_path = os.path.join(os.getcwd(),\"Dropbox\\Sch\\SC4010 CRYPTOGRAPHY\\Proj\\kyber\\src\") #TODO: CHANGE PATH TO SOURCE CODE\n",
    "sys.path.insert(0, module_path)"
   ]
  },
  {
   "cell_type": "code",
   "execution_count": 2,
   "metadata": {},
   "outputs": [],
   "source": [
    "from kyber_kem import kyber_kem\n",
    "from kyber_kem import *\n",
    "import itertools"
   ]
  },
  {
   "cell_type": "markdown",
   "metadata": {},
   "source": [
    "## KYBER-512 demo ##"
   ]
  },
  {
   "cell_type": "markdown",
   "metadata": {},
   "source": [
    "Kyber 512 is a key encapsulation mechanism that shares a secret 256-bit key. Its offers 128 bits of random bit generator strength."
   ]
  },
  {
   "cell_type": "markdown",
   "metadata": {},
   "source": [
    "Key generation: Alice generates her secret key, and sends over the public parameters rho and t."
   ]
  },
  {
   "cell_type": "code",
   "execution_count": 3,
   "metadata": {},
   "outputs": [
    {
     "name": "stdout",
     "output_type": "stream",
     "text": [
      "PUBLIC KEY: Alice sends this to Bob\n",
      "b'68142bff435c218002bc30f97746e1402f38b49095cc051d29ee6ad09d0cea2f94310cc1530cdd1c6dd46419a48927ef022eded57814a3c4f177927c595f4a2a30e91188e4b8351f2c652b4a6acb347ce6781027324a3fa5a25cc225347ac2ac63a87111c5c725b42481cae6e8af111184f4509b6a504e0ad4be89c47001438addd15479b08acca4a02a2c8cb955a5a58567a176b4b7ecbbe0477e25e73cfa215c41923d1ada301ca04ee8d1849708449d479ea8184f1eb073f50b1a30b11f13195f8d5485f79bc5c4b0392c33046c665b3eeb7b48d87e06623f1ed64ee7e08846e21959460cfad6a30e5a7a26d8a8bd1971e480bcf1702c83b29cfa2990f345b10cd3358f6655201187f2bba13b780e27fa258cf30b87e34f01f41d02e507a9a89082a1a4b545196c3cb25ec31645fb4e9060cae914b11ae58d4f42b824c0556564b79510248b8141144370c2a0b94d7bc5ddf86f3c679ce58622b6174eb8370371d00373778e2cf267cd21a7c3627619c0b856b692062c1461514284ac90c5a3512c2b4b6a27906f599c78b974f58bc6dde61546f87f078cabd8682251a9032b631be361637637a5a14ca1506828e69184a5610e3d79cdb81335b210831674ab221226c2065bda08bfc8c99da45278cc6417bd1035e41b738c3c3e6f8c67bff61d2b294511094d646c9132342475bc9db51c51fd62b58e15931ed3cadd832287b77c832487647071fdbb56339a3d60c3b58da9085d4baf08053d66f182a0b1356e54ac32124d8a53065b0ab33345a3056969c9681f8388c55cf1c965457a31f1713ed3ab329471810404951364bc2a947d211423f4b887949c3ba0a012ac5c5a52a95cac533d544e58581031e2961311540ca1cd8af540f2b884314862190c7d843906e64a87da24651e7494cb507ea87083e45c876698637839c1026ab28755652c31ca004d1b79474d59309ea8285d94c322da580d35f0031fb72cff8b4f2609246fa3914e6a798df6a9bb91b478343f4b60735afa9a5d328b6d8b523d750e28b875e7e98b5ff58a415c262de2571ea0852f10aa0d8185a409a7b844362fa23e82a8148c372cea04cd9f00500108c26ba88f67853fa6558885d30e1cd428'\n"
     ]
    }
   ],
   "source": [
    "KYBER_512 = kyber_kem(3329, 256, 2, 2, 2, 12)\n",
    "ek, dk = KYBER_512.kem_keygen()\n",
    "rho, t = ek\n",
    "print(\"PUBLIC KEY: Alice sends this to Bob\")\n",
    "print_bytes(rho + t)\n",
    "\n"
   ]
  },
  {
   "cell_type": "markdown",
   "metadata": {},
   "source": [
    "Encapsulation: Bob generates a secret message m and derives the shared key K from it. From Alice's public parameters he derives the ciphertext, consisting of u and v. "
   ]
  },
  {
   "cell_type": "code",
   "execution_count": 4,
   "metadata": {},
   "outputs": [
    {
     "name": "stdout",
     "output_type": "stream",
     "text": [
      "CIPHERTEXT: Bob sends this to Alice\n",
      "b'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'\n"
     ]
    }
   ],
   "source": [
    "\n",
    "u_bytes, v_bytes, K = KYBER_512.kem_encapsulate(ek)\n",
    "print(\"CIPHERTEXT: Bob sends this to Alice\")\n",
    "print_bytes(u_bytes + v_bytes)"
   ]
  },
  {
   "cell_type": "code",
   "execution_count": 5,
   "metadata": {},
   "outputs": [
    {
     "name": "stdout",
     "output_type": "stream",
     "text": [
      "SECRET SHARED KEY GENERATED BY BOB: \n",
      "b'9bf74a476277f6175ea88dbaa898ceedf7026796511923b7db484f7c2fb58440'\n"
     ]
    }
   ],
   "source": [
    "print(\"SECRET SHARED KEY GENERATED BY BOB: \")\n",
    "print_bytes(K)"
   ]
  },
  {
   "cell_type": "markdown",
   "metadata": {},
   "source": [
    "Decapsulation: Alice decrypts the ciphertext and computes K_prime. She then checks that K_prime will give the correct ciphertext, meaning there has been no decapsulation failure. (The chance of decapsulation failure is very slim). If there has been decapsulation failure, a pre-generated garbage key is returned."
   ]
  },
  {
   "cell_type": "code",
   "execution_count": 6,
   "metadata": {},
   "outputs": [
    {
     "name": "stdout",
     "output_type": "stream",
     "text": [
      "SECRET SHARED KEY DECAPSULATED BY ALICE: \n",
      "b'9bf74a476277f6175ea88dbaa898ceedf7026796511923b7db484f7c2fb58440'\n"
     ]
    }
   ],
   "source": [
    "\n",
    "K_prime = KYBER_512.kem_decapsulate(u_bytes, v_bytes, dk)\n",
    "print(\"SECRET SHARED KEY DECAPSULATED BY ALICE: \")\n",
    "print_bytes(K_prime)"
   ]
  },
  {
   "cell_type": "markdown",
   "metadata": {},
   "source": [
    "## ATTACKS ##"
   ]
  },
  {
   "cell_type": "markdown",
   "metadata": {},
   "source": [
    "### Bad RNG ###"
   ]
  },
  {
   "cell_type": "markdown",
   "metadata": {},
   "source": [
    "Bob is too lazy to come up with a good 256-bit message to encrypt, and decides to fix the first 31 bytes of it. What's the worst that could happen? Nobody knows what he has done. And after all, we still have all that fancy schmancy quantum protection, right?"
   ]
  },
  {
   "cell_type": "code",
   "execution_count": 7,
   "metadata": {},
   "outputs": [
    {
     "name": "stdout",
     "output_type": "stream",
     "text": [
      "PUBLIC KEY: Alice sends this to Bob\n",
      "b'68142bff435c218002bc30f97746e1402f38b49095cc051d29ee6ad09d0cea2f94310cc1530cdd1c6dd46419a48927ef022eded57814a3c4f177927c595f4a2a30e91188e4b8351f2c652b4a6acb347ce6781027324a3fa5a25cc225347ac2ac63a87111c5c725b42481cae6e8af111184f4509b6a504e0ad4be89c47001438addd15479b08acca4a02a2c8cb955a5a58567a176b4b7ecbbe0477e25e73cfa215c41923d1ada301ca04ee8d1849708449d479ea8184f1eb073f50b1a30b11f13195f8d5485f79bc5c4b0392c33046c665b3eeb7b48d87e06623f1ed64ee7e08846e21959460cfad6a30e5a7a26d8a8bd1971e480bcf1702c83b29cfa2990f345b10cd3358f6655201187f2bba13b780e27fa258cf30b87e34f01f41d02e507a9a89082a1a4b545196c3cb25ec31645fb4e9060cae914b11ae58d4f42b824c0556564b79510248b8141144370c2a0b94d7bc5ddf86f3c679ce58622b6174eb8370371d00373778e2cf267cd21a7c3627619c0b856b692062c1461514284ac90c5a3512c2b4b6a27906f599c78b974f58bc6dde61546f87f078cabd8682251a9032b631be361637637a5a14ca1506828e69184a5610e3d79cdb81335b210831674ab221226c2065bda08bfc8c99da45278cc6417bd1035e41b738c3c3e6f8c67bff61d2b294511094d646c9132342475bc9db51c51fd62b58e15931ed3cadd832287b77c832487647071fdbb56339a3d60c3b58da9085d4baf08053d66f182a0b1356e54ac32124d8a53065b0ab33345a3056969c9681f8388c55cf1c965457a31f1713ed3ab329471810404951364bc2a947d211423f4b887949c3ba0a012ac5c5a52a95cac533d544e58581031e2961311540ca1cd8af540f2b884314862190c7d843906e64a87da24651e7494cb507ea87083e45c876698637839c1026ab28755652c31ca004d1b79474d59309ea8285d94c322da580d35f0031fb72cff8b4f2609246fa3914e6a798df6a9bb91b478343f4b60735afa9a5d328b6d8b523d750e28b875e7e98b5ff58a415c262de2571ea0852f10aa0d8185a409a7b844362fa23e82a8148c372cea04cd9f00500108c26ba88f67853fa6558885d30e1cd428'\n"
     ]
    }
   ],
   "source": [
    "KYBER_512_BadRNG = kyber_kem(3329, 256, 2, 2, 2, 12)\n",
    "ek1, dk1 = KYBER_512_BadRNG.kem_keygen()\n",
    "rho1, t1 = ek1\n",
    "print(\"PUBLIC KEY: Alice sends this to Bob\")\n",
    "print_bytes(rho + t)"
   ]
  },
  {
   "cell_type": "code",
   "execution_count": 8,
   "metadata": {},
   "outputs": [
    {
     "name": "stdout",
     "output_type": "stream",
     "text": [
      "CIPHERTEXT: Bob sends this to Alice\n",
      "b'2dc3679d4b8c01625a01d1979bdba009168017eb394bb573f795827f7b365184a4300b79b8bb5be87b8ab2bb3c0bd223f1831ebe73c5e473217758ae6a0c3e214b1b488a908858846400a6b9aa6ade36c3ae205a43740d824b6110b6256767336adc3a67039a13e5cdf459ac93918cc9239e5ba575bda1c5f880301d4ca93bca8ecfc3ae5ce662499b3a80b8154344a00f264518162c1e833ca7925cec21c84e681b49362ed1b5c13c7bb01941746e6b73aab99932a813d582cd13865702f958f7971176d131de04a029350f9b1112a1d7c0e563428caa12b9ca454b43c6cd87a49bb9245a8a58112814f4f066c0d9326a671823f4955ef13bea8cb774830344643ab9b75f95d512301aa9f6b9a25928a623295e07c3b262b4226376358180655440758787908261bf36a173106415e4a4c0efc164a0292d00ab7dd4731270455195e73707384b349521076771a0c27ba3db1c8134009d43bf70915d72591150ca690c57676b46cf215921d8a9aef9d66da8f55b9c06a1c461b92770598c303537ec77e3899834aac349d5ca9af78ed7fc49fab7777914bd86eaaceb517b0d7a211fc9270ce1a3a6e562f98971178a6e4293ca34fb875480bd431121a1ab9c62244d01e1af992196eb3968dabc3d2806b564595741888acf4134eb1871c8527096597cd3374b88e493d5e83f34b3321b436a9dec43b16454d05221c7a96225c583193094b8d0421b065bd5e5c72d40bdd3727554eb75c1f49137f1c4942a32e1cc12cc6cadbff4767883af51a5ca8251b95637acab10871809c64395cc335ba8a3253fb61723ba0bbf55b851139b0212562e89b802fd1432eb530de2e770c10779c1e48a8f0c10477731d433b01fa5766135aa33330156cc5570dc1b64e3a1d55a64d10c775736a366cabe57f9b6c4585c47c93d755bb641a1537040cdaf70042ff0acf329a438224175c59b683b0bfb49347842c3929789df3b3c0a2a7c42f33b64211c4fb635f9267e04a8b0c774a81e410938d0a3ed126990fa38bf01460cb5c37b125f9f00cd63917611a4688f8658f499cec32158d9f64ac3267ea3c5c444650dad35664bcb6a1af00ab2f70026fb766d4901d2f82524357ed601154118b46b2859af06ab086658e2b75be380b74a72b7c38b5655378704f6882303cfaf76290668ac6dea0fc4197df4965df241bea608530bec79468391975825c8f8491515138ae3615e4c7541304b3f2026ef2236e329896637cc9011ad027225ab576983d3451689c994f6b0ae9b6804407cd48b45ec17b7e2e1bd2c807635f22daa6a8ea0dc460d91c182d9933bc33da6a1a383db7766580e3a4bc22aac856ba28b55770da7411436e12b7d398753641dd98b9506b77201705c63051eef068911e6036d799e687535f483aa46bb8b74d3a90b7aac00653248c21f39441af3027626d527c7c7bb2244a4891bb76a919e59f8af69b943c4493b8ff64023415c37a8a5dc0ac3b01818e7f57677a799f33b7c883bc2fba5b009e713846b8ed6337cea199d0486232ef2bae62468e360159a0c8857a8254919bc32d17b152477309654f5c0c584e119197ccd70e29dac6c6cd7b2985318190486bdb56a8e4b7cc458a3c3'\n",
      "b'1\\xf7\\xc2\\xee\\x1e\\xf3\\xa7\\xb4\\xe4I\\x86\\xf5]\\x8f\\x80.M![\\xcbv\\x0e\\x03dA-\\x91v\\xdf\\x98\\xcdt'\n"
     ]
    }
   ],
   "source": [
    "FIXED_BYTES = b'\\x91\\x98\\xfc\\x1e(\\x0c\\x84}V\\x02jJ\\x8a\\x1a\\xe7\\x87\\x1a\\x8fI\\\\\\xe7s\\xd3u\"[es\\xbb\\xd2\\xac'\n",
    "\n",
    "u_bytes1, v_bytes1, K1 = KYBER_512_BadRNG.kem_encapsulate(ek1, bad_rng=True, fixed_bytes = FIXED_BYTES)\n",
    "print(\"CIPHERTEXT: Bob sends this to Alice\")\n",
    "print_bytes(u_bytes1 + v_bytes1)\n",
    "print(K1)"
   ]
  },
  {
   "cell_type": "markdown",
   "metadata": {},
   "source": [
    "Unfortunately for Bob, Eve has managed to steal his fixed_bytes while being invisible. With 2 bytes of entrophy, she can easily brute force his shared secret key from his ciphertext!"
   ]
  },
  {
   "cell_type": "code",
   "execution_count": 13,
   "metadata": {},
   "outputs": [],
   "source": [
    "def brute_force(ek1, u_bytes, v_bytes, fixed_bytes, possible_bytes):\n",
    "    rho1, t1 = ek1\n",
    "    for bytes_ in possible_bytes:\n",
    "        possible_m = fixed_bytes+bytes_\n",
    "\n",
    "        h = KYBER_512_BadRNG._H(rho1 + t1)\n",
    "        K_prime, R_prime = KYBER_512_BadRNG._G(possible_m + h)\n",
    "        u_prime, v_prime = KYBER_512_BadRNG.kem_encrypt(possible_m, ek1, R_prime)\n",
    "\n",
    "        if(u_bytes == u_prime and v_bytes == v_prime):\n",
    "            return K_prime\n",
    "        # if(K_prime == K1):\n",
    "        #     return K_prime\n"
   ]
  },
  {
   "cell_type": "code",
   "execution_count": null,
   "metadata": {},
   "outputs": [
    {
     "name": "stdout",
     "output_type": "stream",
     "text": [
      "SECRET SHARED KEY BRUTE FORCED BY EVE: \n",
      "b'31f7c2ee1ef3a7b4e44986f55d8f802e4d215bcb760e0364412d9176df98cd74'\n",
      "CPU times: total: 5 s\n",
      "Wall time: 5 s\n"
     ]
    }
   ],
   "source": [
    "%%time\n",
    "\n",
    "byte_strings = itertools.product(range(256))\n",
    "possible_bytes =  [bytes(b1) for b1 in byte_strings]\n",
    "K_prime = brute_force(ek1, u_bytes1, v_bytes1, FIXED_BYTES, possible_bytes)\n",
    "if(K_prime):\n",
    "    print(\"SECRET SHARED KEY BRUTE FORCED BY EVE: \")\n",
    "    print_bytes(K_prime)"
   ]
  },
  {
   "cell_type": "code",
   "execution_count": 11,
   "metadata": {},
   "outputs": [
    {
     "name": "stdout",
     "output_type": "stream",
     "text": [
      "SECRET SHARED KEY GENERATED BY BOB: \n",
      "b'31f7c2ee1ef3a7b4e44986f55d8f802e4d215bcb760e0364412d9176df98cd74'\n"
     ]
    }
   ],
   "source": [
    "print(\"SECRET SHARED KEY GENERATED BY BOB: \")\n",
    "print_bytes(K1)"
   ]
  },
  {
   "cell_type": "code",
   "execution_count": 12,
   "metadata": {},
   "outputs": [
    {
     "name": "stdout",
     "output_type": "stream",
     "text": [
      "SECRET SHARED KEY DECAPSULATED BY ALICE: \n",
      "b'31f7c2ee1ef3a7b4e44986f55d8f802e4d215bcb760e0364412d9176df98cd74'\n"
     ]
    }
   ],
   "source": [
    "K_prime1 = KYBER_512.kem_decapsulate(u_bytes1, v_bytes1, dk1)\n",
    "print(\"SECRET SHARED KEY DECAPSULATED BY ALICE: \")\n",
    "print_bytes(K_prime1)"
   ]
  },
  {
   "cell_type": "code",
   "execution_count": null,
   "metadata": {},
   "outputs": [],
   "source": []
  }
 ],
 "metadata": {
  "kernelspec": {
   "display_name": "Python 3 (ipykernel)",
   "language": "python",
   "name": "python3"
  },
  "language_info": {
   "codemirror_mode": {
    "name": "ipython",
    "version": 3
   },
   "file_extension": ".py",
   "mimetype": "text/x-python",
   "name": "python",
   "nbconvert_exporter": "python",
   "pygments_lexer": "ipython3",
   "version": "3.8.18"
  }
 },
 "nbformat": 4,
 "nbformat_minor": 2
}
