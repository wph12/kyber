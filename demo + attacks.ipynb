{
 "cells": [
  {
   "cell_type": "code",
   "execution_count": null,
   "metadata": {},
   "outputs": [],
   "source": [
    "%load_ext autoreload\n",
    "%autoreload\n",
    "\n",
    "import os\n",
    "import sys\n",
    "from pathlib import Path\n",
    "module_path = os.path.join(os.getcwd(),\"Dropbox\\Sch\\SC4010 CRYPTOGRAPHY\\Proj\\kyber\\src\") #TODO: CHANGE PATH TO SOURCE CODE\n",
    "sys.path.insert(0, module_path)"
   ]
  },
  {
   "cell_type": "code",
   "execution_count": null,
   "metadata": {},
   "outputs": [],
   "source": [
    "from kyber_kem import kyber_kem\n",
    "from kyber_kem import *\n",
    "import itertools"
   ]
  },
  {
   "cell_type": "markdown",
   "metadata": {},
   "source": [
    "## KYBER-512 demo ##"
   ]
  },
  {
   "cell_type": "markdown",
   "metadata": {},
   "source": [
    "Kyber 512 is a key encapsulation mechanism that shares a secret 256-bit key. Its offers 128 bits of random bit generator strength."
   ]
  },
  {
   "cell_type": "code",
   "execution_count": null,
   "metadata": {},
   "outputs": [],
   "source": [
    "KYBER_512 = kyber_kem(3329, 256, 2, 2, 2, 12)\n"
   ]
  },
  {
   "cell_type": "markdown",
   "metadata": {},
   "source": [
    "Key generation: Alice generates her secret key, and sends over the public parameters rho and t."
   ]
  },
  {
   "cell_type": "code",
   "execution_count": null,
   "metadata": {},
   "outputs": [
    {
     "name": "stdout",
     "output_type": "stream",
     "text": [
      "PUBLIC KEY: Alice sends this to Bob\n",
      "b'd5467cd377f0257884e37f738f70344fc27f93c6e20bbeb8bfabfb93478960da631a28c2ba72fd3659539b6bf9513203413dcc467fad088d6150ae6dac682d79c7c239bbb6575b41240a27c8b533310d8359124a2262b694958e1c1ed1e194e8a55fda50b758fa670c7531b9ab11fa15529e3140d1483a54e14adcd0bd1c983b6ce629135a47e496694d8229131c1d86e0c775cb5ccf9ab696932d2863922fd68f9abc051c568783c2822db33456d25a65c4a95bd4778687a1376c2d69a9cfd8bc4d3ef747307589b6271b44846c4884c18786b5a4f36d618b82a45a1e9eb9cd019c4b4e4b603ca5c405766ff7040fcd966b86b67c4acccb2067a5419bc5e3b450a5c42cf7dcc9f7e1c604fb0f2561bc43b015a3589b1219022630821835ab8f3b8a3abc41db6b0834b3287af623020172cce7003e295c7a5b185f38231f69364c870a887150fc91153c5c0b9d152f1c84c318f64154fb21d8b7c7cb9864113a7158e473380835b57cbafe96735b1530a6c90e9a84cbe4c4477247608f58ac02c320721bbe1cbc8dc8702b950bccdd20acf9e278dafc373d94247549107305ca62522ebf106f91b443db0487d883c6168446a950328557a338c59aadec547520cf5fc4b3cde31b3a34b14123047271973063051168b18f854b0fe43947fbbdae29a2efa484c14b9d9014b4820921e2564436778cf8c3828de0a8ac68b992b95df499b2bbe66e920bba1d2c30413a15b3b4826f64a95fc1a1671a45a73a9e68a1522dfa502df52e95f3af49a59b0668b3bac6532cd4a5f4a57b61839fafaa5898bb66c98009ac1a6751d12d76099dca0a0d5a95ca318a54b20162d03995e180b210a36b320ac1f4f8024a284ef0ba7f83754b95ab9f6bbbac3ad5bf117a0987e8ccb6a911745125405b6f5ccb15ed110112c944cb064c75eb16fbf57252b7667289a7c75a204aa2928420912027b13ac8c71115cc2c73a4e1381acb6a6e3a710ca454c1430807fac51c5e9a1c83973b4f5cb6ce180a17e28910e590d5173fe4abaa2f507ea9d273c25c2966e560ffe8c47aa4ccad16c817a8a410568f76c2a6b81ca775963c612a28ced9626d2c460eb603a2c3169c2595432393486943d9eaa8'\n"
     ]
    }
   ],
   "source": [
    "ek, dk = KYBER_512.kem_keygen()\n",
    "rho, t = ek\n",
    "print(\"PUBLIC KEY: Alice sends this to Bob\")\n",
    "print_bytes(rho + t)\n",
    "\n"
   ]
  },
  {
   "cell_type": "markdown",
   "metadata": {},
   "source": [
    "Encapsulation: Bob generates a secret message m and derives the shared key K from it. From Alice's public parameters he derives the ciphertext, consisting of u and v. "
   ]
  },
  {
   "cell_type": "code",
   "execution_count": null,
   "metadata": {},
   "outputs": [
    {
     "name": "stdout",
     "output_type": "stream",
     "text": [
      "CIPHERTEXT: Bob sends this to Alice\n",
      "b'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'\n"
     ]
    }
   ],
   "source": [
    "\n",
    "u_bytes, v_bytes, K = KYBER_512.kem_encapsulate(ek)\n",
    "print(\"CIPHERTEXT: Bob sends this to Alice\")\n",
    "print_bytes(u_bytes + v_bytes)"
   ]
  },
  {
   "cell_type": "code",
   "execution_count": null,
   "metadata": {},
   "outputs": [
    {
     "name": "stdout",
     "output_type": "stream",
     "text": [
      "SECRET SHARED KEY GENERATED BY BOB: \n",
      "b'989df0e3eb5f683b791f6bbdb63b73cad2b2ff2118bd3c66fc60eac1b6f77bd2'\n"
     ]
    }
   ],
   "source": [
    "print(\"SECRET SHARED KEY GENERATED BY BOB: \")\n",
    "print_bytes(K)"
   ]
  },
  {
   "cell_type": "markdown",
   "metadata": {},
   "source": [
    "Decapsulation: Alice decrypts the ciphertext and computes K_prime. She then checks that K_prime will give the correct ciphertext, meaning there has been no decapsulation failure. (The chance of decapsulation failure is very slim). If there has been decapsulation failure, a pre-generated garbage key is returned."
   ]
  },
  {
   "cell_type": "code",
   "execution_count": null,
   "metadata": {},
   "outputs": [
    {
     "name": "stdout",
     "output_type": "stream",
     "text": [
      "SECRET SHARED KEY DECAPSULATED BY ALICE: \n",
      "b'989df0e3eb5f683b791f6bbdb63b73cad2b2ff2118bd3c66fc60eac1b6f77bd2'\n"
     ]
    }
   ],
   "source": [
    "\n",
    "K_prime = KYBER_512.kem_decapsulate(u_bytes, v_bytes, dk)\n",
    "print(\"SECRET SHARED KEY DECAPSULATED BY ALICE: \")\n",
    "print_bytes(K_prime)"
   ]
  },
  {
   "cell_type": "markdown",
   "metadata": {},
   "source": [
    "## ATTACKS ##"
   ]
  },
  {
   "cell_type": "markdown",
   "metadata": {},
   "source": [
    "### Bad RNG ###"
   ]
  },
  {
   "cell_type": "markdown",
   "metadata": {},
   "source": [
    "Bob is too lazy to come up with a good 256-bit message to encrypt, and decides to fix the first 31 bytes of it. What's the worst that could happen? Nobody knows what he has done. And after all, we still have all that fancy schmancy quantum protection, right?"
   ]
  },
  {
   "cell_type": "code",
   "execution_count": null,
   "metadata": {},
   "outputs": [
    {
     "name": "stdout",
     "output_type": "stream",
     "text": [
      "PUBLIC KEY: Alice sends this to Bob\n",
      "b'd5467cd377f0257884e37f738f70344fc27f93c6e20bbeb8bfabfb93478960da631a28c2ba72fd3659539b6bf9513203413dcc467fad088d6150ae6dac682d79c7c239bbb6575b41240a27c8b533310d8359124a2262b694958e1c1ed1e194e8a55fda50b758fa670c7531b9ab11fa15529e3140d1483a54e14adcd0bd1c983b6ce629135a47e496694d8229131c1d86e0c775cb5ccf9ab696932d2863922fd68f9abc051c568783c2822db33456d25a65c4a95bd4778687a1376c2d69a9cfd8bc4d3ef747307589b6271b44846c4884c18786b5a4f36d618b82a45a1e9eb9cd019c4b4e4b603ca5c405766ff7040fcd966b86b67c4acccb2067a5419bc5e3b450a5c42cf7dcc9f7e1c604fb0f2561bc43b015a3589b1219022630821835ab8f3b8a3abc41db6b0834b3287af623020172cce7003e295c7a5b185f38231f69364c870a887150fc91153c5c0b9d152f1c84c318f64154fb21d8b7c7cb9864113a7158e473380835b57cbafe96735b1530a6c90e9a84cbe4c4477247608f58ac02c320721bbe1cbc8dc8702b950bccdd20acf9e278dafc373d94247549107305ca62522ebf106f91b443db0487d883c6168446a950328557a338c59aadec547520cf5fc4b3cde31b3a34b14123047271973063051168b18f854b0fe43947fbbdae29a2efa484c14b9d9014b4820921e2564436778cf8c3828de0a8ac68b992b95df499b2bbe66e920bba1d2c30413a15b3b4826f64a95fc1a1671a45a73a9e68a1522dfa502df52e95f3af49a59b0668b3bac6532cd4a5f4a57b61839fafaa5898bb66c98009ac1a6751d12d76099dca0a0d5a95ca318a54b20162d03995e180b210a36b320ac1f4f8024a284ef0ba7f83754b95ab9f6bbbac3ad5bf117a0987e8ccb6a911745125405b6f5ccb15ed110112c944cb064c75eb16fbf57252b7667289a7c75a204aa2928420912027b13ac8c71115cc2c73a4e1381acb6a6e3a710ca454c1430807fac51c5e9a1c83973b4f5cb6ce180a17e28910e590d5173fe4abaa2f507ea9d273c25c2966e560ffe8c47aa4ccad16c817a8a410568f76c2a6b81ca775963c612a28ced9626d2c460eb603a2c3169c2595432393486943d9eaa8'\n"
     ]
    }
   ],
   "source": [
    "KYBER_512_BadRNG = kyber_kem(3329, 256, 2, 2, 2, 12)\n",
    "ek1, dk1 = KYBER_512_BadRNG.kem_keygen()\n",
    "rho1, t1 = ek1\n",
    "print(\"PUBLIC KEY: Alice sends this to Bob\")\n",
    "print_bytes(rho + t)"
   ]
  },
  {
   "cell_type": "code",
   "execution_count": null,
   "metadata": {},
   "outputs": [
    {
     "name": "stdout",
     "output_type": "stream",
     "text": [
      "CIPHERTEXT: Bob sends this to Alice\n",
      "b'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'\n",
      "b'\\xe7\\x0e\\xbbs\\xf5\\t\\x00>\\x1d`k\\x88m\\xe1\\xa6%\\x1ca\\xb7\\x80\\x10g\\x13\\x12\\xc0\\xa97\\xf6\\xca\\x93Yj'\n"
     ]
    }
   ],
   "source": [
    "FIXED_BYTES = b'\\x91\\x98\\xfc\\x1e(\\x0c\\x84}V\\x02jJ\\x8a\\x1a\\xe7\\x87\\x1a\\x8fI\\\\\\xe7s\\xd3u\"[es\\xbb\\xd2\\xac'\n",
    "\n",
    "u_bytes1, v_bytes1, K1 = KYBER_512_BadRNG.kem_encapsulate(ek1, bad_rng=True, fixed_bytes = FIXED_BYTES)\n",
    "print(\"CIPHERTEXT: Bob sends this to Alice\")\n",
    "print_bytes(u_bytes1 + v_bytes1)\n",
    "print(K1)"
   ]
  },
  {
   "cell_type": "markdown",
   "metadata": {},
   "source": [
    "Unfortunately for Bob, Eve has managed to steal his fixed_bytes while being invisible. Just a byte of entrophy, she can easily brute force his shared secret key from his ciphertext!"
   ]
  },
  {
   "cell_type": "code",
   "execution_count": null,
   "metadata": {},
   "outputs": [],
   "source": [
    "def brute_force(ek1, u_bytes, v_bytes, fixed_bytes, possible_bytes):\n",
    "    rho1, t1 = ek1\n",
    "    for bytes_ in possible_bytes:\n",
    "        possible_m = fixed_bytes+bytes_\n",
    "\n",
    "        h = KYBER_512_BadRNG._H(rho1 + t1)\n",
    "        K_prime, R_prime = KYBER_512_BadRNG._G(possible_m + h)\n",
    "        u_prime, v_prime = KYBER_512_BadRNG.kem_encrypt(possible_m, ek1, R_prime)\n",
    "\n",
    "        if(u_bytes == u_prime and v_bytes == v_prime):\n",
    "            return K_prime\n",
    "        # if(K_prime == K1):\n",
    "        #     return K_prime\n"
   ]
  },
  {
   "cell_type": "code",
   "execution_count": null,
   "metadata": {},
   "outputs": [
    {
     "name": "stdout",
     "output_type": "stream",
     "text": [
      "SECRET SHARED KEY BRUTE FORCED BY EVE: \n",
      "b'e70ebb73f509003e1d606b886de1a6251c61b78010671312c0a937f6ca93596a'\n",
      "CPU times: total: 500 ms\n",
      "Wall time: 514 ms\n"
     ]
    }
   ],
   "source": [
    "%%time\n",
    "\n",
    "byte_strings = itertools.product(range(256))\n",
    "possible_bytes =  [bytes(b1) for b1 in byte_strings]\n",
    "K_prime = brute_force(ek1, u_bytes1, v_bytes1, FIXED_BYTES, possible_bytes)\n",
    "if(K_prime):\n",
    "    print(\"SECRET SHARED KEY BRUTE FORCED BY EVE: \")\n",
    "    print_bytes(K_prime)"
   ]
  },
  {
   "cell_type": "code",
   "execution_count": null,
   "metadata": {},
   "outputs": [
    {
     "name": "stdout",
     "output_type": "stream",
     "text": [
      "SECRET SHARED KEY GENERATED BY BOB: \n",
      "b'e70ebb73f509003e1d606b886de1a6251c61b78010671312c0a937f6ca93596a'\n"
     ]
    }
   ],
   "source": [
    "print(\"SECRET SHARED KEY GENERATED BY BOB: \")\n",
    "print_bytes(K1)"
   ]
  },
  {
   "cell_type": "code",
   "execution_count": null,
   "metadata": {},
   "outputs": [
    {
     "name": "stdout",
     "output_type": "stream",
     "text": [
      "SECRET SHARED KEY DECAPSULATED BY ALICE: \n",
      "b'e70ebb73f509003e1d606b886de1a6251c61b78010671312c0a937f6ca93596a'\n"
     ]
    }
   ],
   "source": [
    "K_prime1 = KYBER_512.kem_decapsulate(u_bytes1, v_bytes1, dk1)\n",
    "print(\"SECRET SHARED KEY DECAPSULATED BY ALICE: \")\n",
    "print_bytes(K_prime1)"
   ]
  },
  {
   "cell_type": "markdown",
   "metadata": {},
   "source": [
    "### Baby Kyberslash ###"
   ]
  },
  {
   "cell_type": "markdown",
   "metadata": {},
   "source": [
    "Kyberslash1: exploits division leaking time when converting m from polynomial to byte during decapsulation."
   ]
  },
  {
   "cell_type": "code",
   "execution_count": null,
   "metadata": {},
   "outputs": [],
   "source": [
    "import pandas as pd"
   ]
  },
  {
   "cell_type": "code",
   "execution_count": null,
   "metadata": {},
   "outputs": [],
   "source": [
    "Baby_Kyber = kyber_kem(3329, 8, 2, 2, 2, 12) #n = 8"
   ]
  },
  {
   "cell_type": "code",
   "execution_count": null,
   "metadata": {},
   "outputs": [],
   "source": [
    "df1 = pd.DataFrame({'m_value': [], 'decode_timing': []})\n",
    "\n",
    "for i in range(256):\n",
    "    m_bytes = i.to_bytes(1, 'little')\n",
    "    m_poly = bytes_to_poly(m_bytes, 1, Baby_Kyber.n, Baby_Kyber.q)\n",
    "    timing_score = Baby_Kyber.decode_timing_score(m_poly)\n",
    "    df1.loc[len(df1)] = [i, timing_score]"
   ]
  },
  {
   "cell_type": "code",
   "execution_count": null,
   "metadata": {},
   "outputs": [
    {
     "data": {
      "text/html": [
       "<div>\n",
       "<style scoped>\n",
       "    .dataframe tbody tr th:only-of-type {\n",
       "        vertical-align: middle;\n",
       "    }\n",
       "\n",
       "    .dataframe tbody tr th {\n",
       "        vertical-align: top;\n",
       "    }\n",
       "\n",
       "    .dataframe thead th {\n",
       "        text-align: right;\n",
       "    }\n",
       "</style>\n",
       "<table border=\"1\" class=\"dataframe\">\n",
       "  <thead>\n",
       "    <tr style=\"text-align: right;\">\n",
       "      <th></th>\n",
       "      <th>m_value</th>\n",
       "      <th>decode_timing</th>\n",
       "    </tr>\n",
       "  </thead>\n",
       "  <tbody>\n",
       "    <tr>\n",
       "      <th>m_value</th>\n",
       "      <td>1.000000</td>\n",
       "      <td>0.609985</td>\n",
       "    </tr>\n",
       "    <tr>\n",
       "      <th>decode_timing</th>\n",
       "      <td>0.609985</td>\n",
       "      <td>1.000000</td>\n",
       "    </tr>\n",
       "  </tbody>\n",
       "</table>\n",
       "</div>"
      ],
      "text/plain": [
       "                m_value  decode_timing\n",
       "m_value        1.000000       0.609985\n",
       "decode_timing  0.609985       1.000000"
      ]
     },
     "execution_count": 17,
     "metadata": {},
     "output_type": "execute_result"
    }
   ],
   "source": [
    "df1.corr()"
   ]
  },
  {
   "cell_type": "code",
   "execution_count": null,
   "metadata": {},
   "outputs": [
    {
     "name": "stderr",
     "output_type": "stream",
     "text": [
      "C:\\Users\\wengp\\anaconda3\\lib\\site-packages\\pandas\\plotting\\_matplotlib\\core.py:1114: UserWarning: No data for colormapping provided via 'c'. Parameters 'cmap' will be ignored\n",
      "  scatter = ax.scatter(\n"
     ]
    },
    {
     "data": {
      "text/plain": [
       "<Axes: xlabel='m_value', ylabel='decode_timing'>"
      ]
     },
     "execution_count": 18,
     "metadata": {},
     "output_type": "execute_result"
    },
    {
     "data": {
      "image/png": "[encoded data removed]",
      "text/plain": [
       "<Figure size 640x480 with 1 Axes>"
      ]
     },
     "metadata": {},
     "output_type": "display_data"
    }
   ],
   "source": [
    "df1.plot.scatter(x= \"m_value\", y = \"decode_timing\")"
   ]
  },
  {
   "cell_type": "markdown",
   "metadata": {},
   "source": [
    "Kyberslash2: exploits division leaking time when compressing v during encapsulation"
   ]
  },
  {
   "cell_type": "code",
   "execution_count": null,
   "metadata": {},
   "outputs": [
    {
     "name": "stdout",
     "output_type": "stream",
     "text": [
      "PUBLIC KEY: Alice sends this to Bob\n",
      "b'551a2a3a5b2b2fee97a3fbf8beec0bc281e7b02c91c78e5797'\n"
     ]
    }
   ],
   "source": [
    "ek2, dk2 = Baby_Kyber.kem_keygen()\n",
    "rho2, t2 = ek2\n",
    "print(\"PUBLIC KEY: Alice sends this to Bob\")\n",
    "print_bytes(rho2 + t2)"
   ]
  },
  {
   "cell_type": "code",
   "execution_count": null,
   "metadata": {},
   "outputs": [
    {
     "name": "stdout",
     "output_type": "stream",
     "text": [
      "13168\n",
      "13537\n"
     ]
    }
   ],
   "source": [
    "_, v_bytes2, _ = Baby_Kyber.kem_encapsulate(ek2, bad_rng=True, fixed_bytes = b'\\x00')\n",
    "print(Baby_Kyber.compression_timing_score(v_bytes2))\n",
    "_, v_bytes3, _ = Baby_Kyber.kem_encapsulate(ek2, bad_rng=True, fixed_bytes = b'\\x01')\n",
    "print(Baby_Kyber.compression_timing_score(v_bytes3))"
   ]
  },
  {
   "cell_type": "code",
   "execution_count": null,
   "metadata": {},
   "outputs": [],
   "source": [
    "df2 = pd.DataFrame({'m_value': [], 'v_timing_score': []})\n",
    "\n",
    "\n",
    "for i in range(100):\n",
    "    _ek, _ = Baby_Kyber.kem_keygen()\n",
    "\n",
    "    for j in [0,128]:\n",
    "        m_bytes = j.to_bytes(1, 'little')\n",
    "        _, _v_bytes, _ = Baby_Kyber.kem_encapsulate(_ek, bad_rng=True, fixed_bytes = m_bytes)\n",
    "        _v_score = Baby_Kyber.compression_timing_score(_v_bytes)\n",
    "        df2.loc[len(df2)] = [j, _v_score]"
   ]
  },
  {
   "cell_type": "code",
   "execution_count": null,
   "metadata": {},
   "outputs": [
    {
     "data": {
      "text/html": [
       "<div>\n",
       "<style scoped>\n",
       "    .dataframe tbody tr th:only-of-type {\n",
       "        vertical-align: middle;\n",
       "    }\n",
       "\n",
       "    .dataframe tbody tr th {\n",
       "        vertical-align: top;\n",
       "    }\n",
       "\n",
       "    .dataframe thead th {\n",
       "        text-align: right;\n",
       "    }\n",
       "</style>\n",
       "<table border=\"1\" class=\"dataframe\">\n",
       "  <thead>\n",
       "    <tr style=\"text-align: right;\">\n",
       "      <th></th>\n",
       "      <th>m_value</th>\n",
       "      <th>v_timing_score</th>\n",
       "    </tr>\n",
       "  </thead>\n",
       "  <tbody>\n",
       "    <tr>\n",
       "      <th>m_value</th>\n",
       "      <td>1.000000</td>\n",
       "      <td>-0.070401</td>\n",
       "    </tr>\n",
       "    <tr>\n",
       "      <th>v_timing_score</th>\n",
       "      <td>-0.070401</td>\n",
       "      <td>1.000000</td>\n",
       "    </tr>\n",
       "  </tbody>\n",
       "</table>\n",
       "</div>"
      ],
      "text/plain": [
       "                 m_value  v_timing_score\n",
       "m_value         1.000000       -0.070401\n",
       "v_timing_score -0.070401        1.000000"
      ]
     },
     "execution_count": 22,
     "metadata": {},
     "output_type": "execute_result"
    }
   ],
   "source": [
    "df2.corr()"
   ]
  },
  {
   "cell_type": "code",
   "execution_count": null,
   "metadata": {},
   "outputs": [
    {
     "name": "stderr",
     "output_type": "stream",
     "text": [
      "C:\\Users\\wengp\\anaconda3\\lib\\site-packages\\pandas\\plotting\\_matplotlib\\core.py:1114: UserWarning: No data for colormapping provided via 'c'. Parameters 'cmap' will be ignored\n",
      "  scatter = ax.scatter(\n"
     ]
    },
    {
     "data": {
      "text/plain": [
       "<Axes: xlabel='m_value', ylabel='v_timing_score'>"
      ]
     },
     "execution_count": 23,
     "metadata": {},
     "output_type": "execute_result"
    },
    {
     "data": {
      "image/png": "[encoded data removed]",
      "text/plain": [
       "<Figure size 640x480 with 1 Axes>"
      ]
     },
     "metadata": {},
     "output_type": "display_data"
    }
   ],
   "source": [
    "df2.plot.scatter(x= \"m_value\", y = \"v_timing_score\")"
   ]
  }
 ],
 "metadata": {
  "kernelspec": {
   "display_name": "Python 3 (ipykernel)",
   "language": "python",
   "name": "python3"
  },
  "language_info": {
   "codemirror_mode": {
    "name": "ipython",
    "version": 3
   },
   "file_extension": ".py",
   "mimetype": "text/x-python",
   "name": "python",
   "nbconvert_exporter": "python",
   "pygments_lexer": "ipython3",
   "version": "3.8.18"
  }
 },
 "nbformat": 4,
 "nbformat_minor": 2
}
